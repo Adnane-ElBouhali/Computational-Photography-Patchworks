{
  "cells": [
    {
      "cell_type": "markdown",
      "metadata": {
        "id": "TdpPHz2Lp6VD"
      },
      "source": [
        "# IMA 206 - Coding autoencoders in Pytorch\n",
        "\n",
        "The lab was originally created by Alasdair Newson (https://sites.google.com/site/alasdairnewson/)\n",
        "\n",
        "The current version is made by Loic Le Folgoc. If you have questions, please contact me at loic dot lefolgoc at telecom-paris dot fr.\n",
        "\n",
        "## Objective:\n",
        "\n",
        "The goal of this TP is to explore autoencoders and variational autoencoders applied to a simple dataset. In this first part, we will look at an autoencoder applied to MNIST. We recall that an autoencoder is a neural network with the following general architecture:\n",
        "\n",
        "\n",
        "![AUTOENCODER](https://drive.google.com/uc?id=11dfNujSHa2-_eThp2aTpL1M_hLaEQX-G)\n",
        "\n",
        "\n",
        "The tensor $z$ in the middle of the network is called a __latent code__, and it belongs to the latent space. It is this latent space which is interesting in autoencoders (for image synthesis, editing, etc).\n",
        "\n",
        "## Your task:\n",
        "You need to add the missing parts in the code (parts between # --- START CODE HERE and # --- END CODE HERE or # FILL IN CODE or ...)"
      ]
    },
    {
      "cell_type": "markdown",
      "source": [
        "First of all, let's load some packages:"
      ],
      "metadata": {
        "id": "gp13aVUQq1WX"
      }
    },
    {
      "cell_type": "code",
      "execution_count": 71,
      "metadata": {
        "id": "JqNeIJ8Op8Ao"
      },
      "outputs": [],
      "source": [
        "import torch\n",
        "import torch.nn as nn\n",
        "import torch.nn.functional as F\n",
        "import torch.optim as optim\n",
        "from torchvision import datasets, transforms\n",
        "from torch.autograd import Variable\n",
        "from torchvision.utils import save_image\n",
        "\n",
        "import pdb\n",
        "import numpy as np\n",
        "import matplotlib.pyplot as plt"
      ]
    },
    {
      "cell_type": "code",
      "source": [
        "from tqdm import tqdm"
      ],
      "metadata": {
        "id": "U6NKzRPlDKZp"
      },
      "execution_count": 72,
      "outputs": []
    },
    {
      "cell_type": "markdown",
      "metadata": {
        "id": "Hyj5dj_eui9D"
      },
      "source": [
        "First, we load the mnist dataset. I find that training on the full training dataset `mnist_trainset` is fast enough even on CPU (5-10 minutes), but should you need it, we create a reduced trainset below.\n",
        "\n",
        "Feel free to train on `mnist_trainset_reduced` instead if you prefer (results might be of poorer quality). To do so, replace the argument `mnist_trainset` in the `torch.utils.data.DataLoader(...)` call creating `mnist_train_loader` in the cell below by `mnist_trainset_reduced` (and same for `mnist_testset` and `mnist_testset_reduced`)."
      ]
    },
    {
      "cell_type": "code",
      "execution_count": 73,
      "metadata": {
        "id": "4YPLKlPrufSk"
      },
      "outputs": [],
      "source": [
        "batch_size = 64\n",
        "\n",
        "# MNIST Dataset\n",
        "mnist_trainset = datasets.MNIST(root='./mnist_data/', train=True, transform=transforms.ToTensor(), download=True)\n",
        "mnist_testset = datasets.MNIST(root='./mnist_data/', train=False, transform=transforms.ToTensor(), download=False)\n",
        "\n",
        "#create data loader with smaller dataset size\n",
        "max_mnist_size = 5000\n",
        "mnist_trainset_reduced = torch.utils.data.random_split(mnist_trainset, [max_mnist_size, len(mnist_trainset)-max_mnist_size])[0]\n",
        "mnist_train_loader = torch.utils.data.DataLoader(mnist_trainset, batch_size=batch_size, shuffle=True, drop_last=False)\n",
        "\n",
        "# download test dataset\n",
        "max_mnist_size = 1000\n",
        "mnist_testset_reduced = torch.utils.data.random_split(mnist_testset, [max_mnist_size, len(mnist_testset)-max_mnist_size])[0]\n",
        "mnist_test_loader = torch.utils.data.DataLoader(mnist_testset, batch_size=batch_size, shuffle=False, drop_last=False)\n"
      ]
    },
    {
      "cell_type": "code",
      "execution_count": 74,
      "metadata": {
        "colab": {
          "base_uri": "https://localhost:8080/"
        },
        "id": "r7YhlBT2PN9I",
        "outputId": "41162c39-6d84-47e2-93a0-23cb6629566b"
      },
      "outputs": [
        {
          "output_type": "execute_result",
          "data": {
            "text/plain": [
              "torch.Size([60000, 28, 28])"
            ]
          },
          "metadata": {},
          "execution_count": 74
        }
      ],
      "source": [
        "mnist_trainset.data.shape"
      ]
    },
    {
      "cell_type": "markdown",
      "metadata": {
        "id": "t-bkK4ktwfvC"
      },
      "source": [
        "# 1. Vanilla Autoencoder\n",
        "\n",
        "Now, we define our autoencoder model. The autoencoder class `AEModel` is made of an `Encoder` and a `Decoder`, which we create first. We will reuse the `Encoder` and `Decoder` classes when building our variational autoencoder model, and wrap them in a `VAEModel` instead."
      ]
    },
    {
      "cell_type": "markdown",
      "metadata": {
        "id": "6jLa2-jQwxSI"
      },
      "source": [
        "We will use the following convolutional architectures :\n",
        "\n",
        "__Encoder__ :\n",
        "- Conv layer, 32 filters, 4x4 kernel, stride=2, padding=1; + ReLU\n",
        "- Conv layer, 32 filters, 4x4 kernel, stride=2, padding=0; + ReLU\n",
        "- Conv layer, 32 filters, 4x4 kernel, stride=2, padding=0; + ReLU\n",
        "- Flatten\n",
        "- Dense layer with 64 output neurons; + ReLU\n",
        "- Dense layer with `self.latent_dim*self.multiplier` output neurons.\n",
        "\n",
        "For the autoencoder, `self.multiplier=1` as the encoder outputs a `self.latent_dim`-dimensional latent code. For the variational autoencoder, we will set `self.multiplier=2` as the encoder will output `self.latent_dim`-dimensional mean and log-variance parameters of the Gaussian distribution $q_\\phi(z|x)$.\n",
        "\n",
        "__Decoder__ (the decoder of the AE and VAE are the same, they always outputs an image/probability map, given a code $z$ as input):\n",
        "- Dense layer with 64 output neurons; + ReLU\n",
        "- Dense layer with ??? output neurons; + ReLU\n",
        "- Reshape, to a `(C, H, W)` tensor with `C=32`, `H=???`, `W=???`.\n",
        "- Conv transpose layer, 32 filters, 4x4 kernel, stride=2, padding=0; +ReLU\n",
        "- Conv transpose layer, 32 filters, 4x4 kernel, stride=2, padding=0; +ReLU\n",
        "- Conv transpose layer, 1 filter, 4x4 kernel, stride=2, padding=1; +Sigmoid\n",
        "\n",
        "The number of output neurons of the second dense layer is exactly the number of input neurons in the first dense layer of the encoder (i.e., the number of values in the feature maps of the conv layer immediately before it).\n",
        "\n",
        "For the reshape operations, use the ```A.view(dim_1,dim_2,...)``` function, where ```A``` is your tensor."
      ]
    },
    {
      "cell_type": "markdown",
      "source": [
        "__Hint for computing the number of neurons that are not given to you__: This [great resource](https://madebyollin.github.io/convnet-calculator/) lets you compute the size of the output tensor following any convolution layer depending on the input tensor shape and conv parameters."
      ],
      "metadata": {
        "id": "eNH7ScylwKa-"
      }
    },
    {
      "cell_type": "code",
      "source": [
        "class Encoder(torch.nn.Module):\n",
        "    def __init__(self, latent_dim=10, multiplier=1):\n",
        "        super(Encoder, self).__init__()\n",
        "\n",
        "        self.latent_dim = latent_dim\n",
        "        self.multiplier = multiplier\n",
        "        self.reshape = (32, 2, 2)  # C x H x W after last conv layer\n",
        "\n",
        "        # Convolutional layers\n",
        "        self.conv1 = nn.Conv2d(in_channels=1, out_channels=32, kernel_size=4, stride=2, padding=1)\n",
        "        self.conv2 = nn.Conv2d(in_channels=32, out_channels=32, kernel_size=4, stride=2, padding=0)\n",
        "        self.conv3 = nn.Conv2d(in_channels=32, out_channels=32, kernel_size=4, stride=2, padding=0)\n",
        "\n",
        "        # Fully connected layers\n",
        "        self.lin1 = nn.Linear(in_features=32*2*2, out_features=64)  # Flatten 32 * 2 * 2\n",
        "        self.lin2 = nn.Linear(in_features=64, out_features=self.latent_dim * self.multiplier)\n",
        "\n",
        "    def forward(self, x):\n",
        "        batch_size = x.size(0)\n",
        "\n",
        "        # Apply convolutional layers with ReLU\n",
        "        x = F.relu(self.conv1(x))\n",
        "        x = F.relu(self.conv2(x))\n",
        "        x = F.relu(self.conv3(x))\n",
        "\n",
        "        # Flatten the output of conv3\n",
        "        x = x.view(batch_size, -1)  # Flatten into (B, 32*2*2)\n",
        "\n",
        "        # Apply first dense layer with ReLU\n",
        "        x = F.relu(self.lin1(x))\n",
        "\n",
        "        # Final dense layer for latent code\n",
        "        x = self.lin2(x)\n",
        "\n",
        "        if self.multiplier == 1:\n",
        "            return x.view(batch_size, self.latent_dim)  # Reshape if needed to match the output dimensions\n",
        "        else:\n",
        "            return x.view(batch_size, self.latent_dim, self.multiplier)  # Reshape for VAE\n",
        "\n"
      ],
      "metadata": {
        "id": "0-IyPUQkIR-U"
      },
      "execution_count": 86,
      "outputs": []
    },
    {
      "cell_type": "code",
      "source": [
        "class Decoder(nn.Module):\n",
        "    def __init__(self, latent_dim=10):\n",
        "        super(Decoder, self).__init__()\n",
        "\n",
        "        self.reshape = (32, 2, 2)  # Shape to start the transpose convolutions\n",
        "\n",
        "        # Fully connected layers\n",
        "        self.lin1 = nn.Linear(in_features=latent_dim, out_features=64)\n",
        "        self.lin2 = nn.Linear(in_features=64, out_features=32*2*2)\n",
        "\n",
        "        # Convolutional layers\n",
        "        self.convT1 = nn.ConvTranspose2d(in_channels=32, out_channels=32, kernel_size=4, stride=2, padding=0)\n",
        "        self.convT2 = nn.ConvTranspose2d(in_channels=32, out_channels=32, kernel_size=4, stride=2, padding=0)\n",
        "        self.convT3 = nn.ConvTranspose2d(in_channels=32, out_channels=1, kernel_size=4, stride=2, padding=1)\n",
        "\n",
        "    def forward(self, z):\n",
        "        batch_size = z.size(0)\n",
        "\n",
        "        # Fully connected layers with ReLu activations\n",
        "        z = F.relu(self.lin1(z))\n",
        "        z = F.relu(self.lin2(z))\n",
        "\n",
        "        # Reshape\n",
        "        z = z.view(batch_size, *self.reshape)  # Reshape into the form before the first transposed conv layer\n",
        "\n",
        "        # Convolutional layers with ReLu activations\n",
        "        z = F.relu(self.convT1(z))\n",
        "        z = F.relu(self.convT2(z))\n",
        "\n",
        "        # Final conv layer with sigmoid activation\n",
        "        z = torch.sigmoid(self.convT3(z))\n",
        "\n",
        "        return z\n"
      ],
      "metadata": {
        "id": "U64AqYvpYpr6"
      },
      "execution_count": 90,
      "outputs": []
    },
    {
      "cell_type": "code",
      "source": [
        "# Example usage\n",
        "latent_dim = 10\n",
        "decoder = Decoder(latent_dim)\n",
        "\n",
        "# Create a dummy latent vector\n",
        "dummy_latent_vector = torch.randn(batch_size, latent_dim)\n",
        "output = decoder(dummy_latent_vector)\n",
        "print(output.shape)"
      ],
      "metadata": {
        "id": "HOY03y7Wqysd",
        "outputId": "a085442e-ae6c-4839-897e-6c413d2eedba",
        "colab": {
          "base_uri": "https://localhost:8080/"
        }
      },
      "execution_count": 91,
      "outputs": [
        {
          "output_type": "stream",
          "name": "stdout",
          "text": [
            "torch.Size([64, 1, 28, 28])\n"
          ]
        }
      ]
    },
    {
      "cell_type": "markdown",
      "source": [
        "The autoencoder model itself is basically a wrapper around an `Encoder` and a `Decoder`. In the forward pass, the input images contained in the tensor `x` are passed through the `Encoder` to obtain the latent codes `z` then these codes are fed to the `Decoder` to produce the reconstructions `y`."
      ],
      "metadata": {
        "id": "JmGyzVp4HVRJ"
      }
    },
    {
      "cell_type": "code",
      "source": [
        "class AEModel(nn.Module):\n",
        "    def __init__(self, latent_dim):\n",
        "        \"\"\"\n",
        "        Class which defines model and forward pass.\n",
        "\n",
        "        Parameters\n",
        "        ----------\n",
        "        latent_dim : int\n",
        "            Dimensionality of latent code.\n",
        "        \"\"\"\n",
        "        super(AEModel, self).__init__()\n",
        "\n",
        "        self.latent_dim = latent_dim\n",
        "        # Initialize encoder and decoder with the given latent dimension\n",
        "        self.encoder = Encoder(latent_dim=latent_dim)\n",
        "        self.decoder = Decoder(latent_dim=latent_dim)\n",
        "\n",
        "    def forward(self, x, mode='sample'):\n",
        "        \"\"\"\n",
        "        Forward pass of model, used for training or reconstruction.\n",
        "\n",
        "        Parameters\n",
        "        ----------\n",
        "        x : torch.Tensor\n",
        "            Batch of data. Shape (batch_size, n_chan, height, width)\n",
        "\n",
        "        Outputs a dictionary containing:\n",
        "          codes - the latent codes corresponding to the input images\n",
        "          reconstructions - the images reconstructed by the autoencoder\n",
        "        \"\"\"\n",
        "\n",
        "        # z is the output of the encoder\n",
        "        z = self.encoder(x)\n",
        "\n",
        "        # Decode the samples to image space\n",
        "        y = self.decoder(z)\n",
        "\n",
        "        # Return everything:\n",
        "        return {\n",
        "            'reconstructions': y,\n",
        "            'codes': z\n",
        "            }\n"
      ],
      "metadata": {
        "id": "T9MYicH9Zf3o"
      },
      "execution_count": 92,
      "outputs": []
    },
    {
      "cell_type": "markdown",
      "source": [
        "Next, we carefully create the reconstruction loss. It will be reused for the VAE loss later on."
      ],
      "metadata": {
        "id": "VeWePstgIVBw"
      }
    },
    {
      "cell_type": "markdown",
      "source": [
        "The reconstruction loss translates a pixel-wise Bernoulli probabilistic model into a loss (`F.binary_cross_entropy`). It takes input images `data` and reconstructed probability maps `reconstructions` and computes the binary cross-entropy, from the two images."
      ],
      "metadata": {
        "id": "3FIb4BDrInYy"
      }
    },
    {
      "cell_type": "code",
      "source": [
        "import torch.nn.functional as F\n",
        "\n",
        "def reconstruction_loss(reconstructions, data):\n",
        "    \"\"\"\n",
        "    Calculates the reconstruction loss for a batch of data. I.e., negative\n",
        "    log likelihood.\n",
        "\n",
        "    Parameters\n",
        "    ----------\n",
        "    data : torch.Tensor\n",
        "        Input data (e.g. batch of images). Shape : (batch_size, 1, height, width).\n",
        "    reconstructions : torch.Tensor\n",
        "        Reconstructed data. Shape : (batch_size, 1, height, width).\n",
        "\n",
        "    Returns\n",
        "    -------\n",
        "    loss : torch.Tensor\n",
        "        Binary cross entropy, AVERAGED over images in the batch but SUMMED over\n",
        "        pixel and channel.\n",
        "    \"\"\"\n",
        "    batch_size, n_chan, height, width = reconstructions.size()\n",
        "\n",
        "    # The pixel-wise loss is the binary cross-entropy, computed from\n",
        "    # reconstructions and data. Here we need to sum across dimensions of each image,\n",
        "    # but average the sum across the batch.\n",
        "    # The parameter reduction='none' returns the loss for each element in the batch without any reduction.\n",
        "    loss = F.binary_cross_entropy(reconstructions, data, reduction='none')\n",
        "\n",
        "    # Sum the loss over all dimensions except the batch dimension (dim=0)\n",
        "    loss = loss.view(batch_size, -1).sum(dim=1).mean()  # sum over all pixels and channels, then average over batch\n",
        "\n",
        "    return loss\n"
      ],
      "metadata": {
        "id": "CWrQbhOnbv7y"
      },
      "execution_count": 93,
      "outputs": []
    },
    {
      "cell_type": "markdown",
      "source": [
        "### Training the vanilla autoencoder"
      ],
      "metadata": {
        "id": "iqibefFRJHy_"
      }
    },
    {
      "cell_type": "markdown",
      "source": [
        "The training proceeds as usual. We instantiate a model, move it to the correct device, create an optimizer and write the training loop."
      ],
      "metadata": {
        "id": "RQbHTXMLJODw"
      }
    },
    {
      "cell_type": "code",
      "source": [
        "# Parameters\n",
        "latent_dim = 10\n",
        "\n",
        "learning_rate = 1e-3\n",
        "n_epoch = 5 # if running on GPU you can use more epochs (10 or more)"
      ],
      "metadata": {
        "id": "NyZcTZP3a_kc"
      },
      "execution_count": 94,
      "outputs": []
    },
    {
      "cell_type": "code",
      "source": [
        "device = torch.device(\"cuda:0\" if torch.cuda.is_available() else \"cpu\")\n",
        "print(device)"
      ],
      "metadata": {
        "colab": {
          "base_uri": "https://localhost:8080/"
        },
        "id": "ft_3txj0bZjO",
        "outputId": "615c61bc-af38-4178-8b6a-984398012f38"
      },
      "execution_count": 95,
      "outputs": [
        {
          "output_type": "stream",
          "name": "stdout",
          "text": [
            "cpu\n"
          ]
        }
      ]
    },
    {
      "cell_type": "code",
      "execution_count": 96,
      "metadata": {
        "id": "oV40vRMQRoG1"
      },
      "outputs": [],
      "source": [
        "# Model\n",
        "ae_model = AEModel(latent_dim)\n",
        "ae_model = ae_model.to(device)"
      ]
    },
    {
      "cell_type": "code",
      "source": [
        "# Use the AdamW optimizer, set the correct learning rate and weight_decay to 1e-4\n",
        "optimizer = optim.AdamW(ae_model.parameters(), lr=learning_rate, weight_decay=1e-4)"
      ],
      "metadata": {
        "id": "sbnKjRTDaynz"
      },
      "execution_count": 97,
      "outputs": []
    },
    {
      "cell_type": "code",
      "source": [
        "ae_model.train()\n",
        "\n",
        "for epoch in range(0,n_epoch):\n",
        "  train_loss=0.0\n",
        "\n",
        "  with tqdm(mnist_train_loader, unit=\"batch\") as tepoch:\n",
        "      for data, labels in tepoch:\n",
        "        tepoch.set_description(f\"Epoch {epoch}\")\n",
        "\n",
        "        # Move data to the correct device\n",
        "        data = data.to(device)\n",
        "\n",
        "        # Zero the gradients carried over from previous steps\n",
        "        optimizer.zero_grad()\n",
        "\n",
        "        # Pass the input data through the model\n",
        "        predict = ae_model(data)\n",
        "        reconstructions = predict['reconstructions']\n",
        "\n",
        "        # Compute the AE loss\n",
        "        loss = reconstruction_loss(reconstructions, data)\n",
        "\n",
        "        # Backpropagate the loss, update weights\n",
        "        loss.backward()\n",
        "        optimizer.step()\n",
        "\n",
        "        # Aggregate the training loss for display at the end of the epoch\n",
        "        train_loss += loss.item()\n",
        "\n",
        "        # Update tqdm bar to show the current loss\n",
        "        tepoch.set_postfix(loss=loss.item())\n",
        "\n",
        "  print('Epoch {}: Train Loss: {:.4f}'.format(epoch, train_loss/len(mnist_train_loader)))"
      ],
      "metadata": {
        "id": "S2-phJydcICh",
        "outputId": "8ff142fe-f153-471f-ea2b-0a06937c0431",
        "colab": {
          "base_uri": "https://localhost:8080/"
        }
      },
      "execution_count": 99,
      "outputs": [
        {
          "output_type": "stream",
          "name": "stderr",
          "text": [
            "Epoch 0: 100%|██████████| 938/938 [00:59<00:00, 15.73batch/s, loss=94.3]\n"
          ]
        },
        {
          "output_type": "stream",
          "name": "stdout",
          "text": [
            "Epoch 0: Train Loss: 107.5782\n"
          ]
        },
        {
          "output_type": "stream",
          "name": "stderr",
          "text": [
            "Epoch 1: 100%|██████████| 938/938 [00:59<00:00, 15.85batch/s, loss=105]\n"
          ]
        },
        {
          "output_type": "stream",
          "name": "stdout",
          "text": [
            "Epoch 1: Train Loss: 95.4294\n"
          ]
        },
        {
          "output_type": "stream",
          "name": "stderr",
          "text": [
            "Epoch 2: 100%|██████████| 938/938 [00:58<00:00, 16.01batch/s, loss=77.2]\n"
          ]
        },
        {
          "output_type": "stream",
          "name": "stdout",
          "text": [
            "Epoch 2: Train Loss: 90.6988\n"
          ]
        },
        {
          "output_type": "stream",
          "name": "stderr",
          "text": [
            "Epoch 3: 100%|██████████| 938/938 [00:59<00:00, 15.81batch/s, loss=83.8]\n"
          ]
        },
        {
          "output_type": "stream",
          "name": "stdout",
          "text": [
            "Epoch 3: Train Loss: 88.3327\n"
          ]
        },
        {
          "output_type": "stream",
          "name": "stderr",
          "text": [
            "Epoch 4: 100%|██████████| 938/938 [00:59<00:00, 15.78batch/s, loss=91.2]"
          ]
        },
        {
          "output_type": "stream",
          "name": "stdout",
          "text": [
            "Epoch 4: Train Loss: 86.8535\n"
          ]
        },
        {
          "output_type": "stream",
          "name": "stderr",
          "text": [
            "\n"
          ]
        }
      ]
    },
    {
      "cell_type": "markdown",
      "source": [
        "### Testing the vanilla autoencoder"
      ],
      "metadata": {
        "id": "iHscBN4KJ2Sq"
      }
    },
    {
      "cell_type": "markdown",
      "metadata": {
        "id": "w3EbmswSzJdK"
      },
      "source": [
        "We define functions for qualitative testing of the autoencoder model. We will reuse them throughout the lab."
      ]
    },
    {
      "cell_type": "code",
      "execution_count": 100,
      "metadata": {
        "id": "T8jXjdRyzMy2"
      },
      "outputs": [],
      "source": [
        "def display_images(imgs):\n",
        "  '''\n",
        "  Display a batch of images (typically synthetic/generated images)\n",
        "  '''\n",
        "  r = 1\n",
        "  c = imgs.shape[0]\n",
        "  fig, axs = plt.subplots(r, c)\n",
        "  for j in range(c):\n",
        "    # black and white images\n",
        "    axs[j].imshow(imgs[j, 0,:,:].detach().cpu().numpy(), cmap='gray')\n",
        "    axs[j].axis('off')\n",
        "  plt.show()\n",
        "\n",
        "def display_ae_images(ae_model, test_imgs):\n",
        "  '''\n",
        "  Display a batch of input images along with their reconstructions by a given model\n",
        "    First row: input images\n",
        "    Second row: reconstructed images\n",
        "  '''\n",
        "  n_images = 5\n",
        "  idx = np.random.randint(0, test_imgs.shape[0], n_images)\n",
        "  test_imgs = test_imgs[idx,:,:,:]\n",
        "\n",
        "  # get output images\n",
        "  output_imgs = ae_model(test_imgs.to(ae_model.encoder.conv1.weight.device))['reconstructions']\n",
        "  output_imgs = output_imgs.detach().cpu().numpy()\n",
        "\n",
        "  r = 2\n",
        "  c = n_images\n",
        "  fig, axs = plt.subplots(r, c)\n",
        "  for j in range(c):\n",
        "    axs[0,j].imshow(test_imgs[j, 0,:,:], cmap='gray')\n",
        "    axs[0,j].axis('off')\n",
        "    axs[1,j].imshow(output_imgs[j, 0,:,:], cmap='gray')\n",
        "    axs[1,j].axis('off')\n",
        "  plt.show()"
      ]
    },
    {
      "cell_type": "markdown",
      "source": [
        "Let's see how well the autoencoder reconstructs images from the training set:"
      ],
      "metadata": {
        "id": "TQiEplCiKnlT"
      }
    },
    {
      "cell_type": "code",
      "execution_count": 101,
      "metadata": {
        "id": "9pbXch29d68D",
        "outputId": "23c3a71d-e29e-48fb-a45f-c4cac01e952d",
        "colab": {
          "base_uri": "https://localhost:8080/",
          "height": 324
        }
      },
      "outputs": [
        {
          "output_type": "display_data",
          "data": {
            "text/plain": [
              "<Figure size 640x480 with 10 Axes>"
            ],
            "image/png": "[encoded data removed]"
          },
          "metadata": {}
        }
      ],
      "source": [
        "# reconstructing training images\n",
        "train_imgs = next(iter(mnist_train_loader))[0]\n",
        "display_ae_images(ae_model, train_imgs)"
      ]
    },
    {
      "cell_type": "markdown",
      "source": [
        "What about images from the test set?"
      ],
      "metadata": {
        "id": "h3XxWKjGKtoA"
      }
    },
    {
      "cell_type": "code",
      "source": [
        "# reconstructing test images\n",
        "test_imgs = next(iter(mnist_test_loader))[0]\n",
        "display_ae_images(ae_model, test_imgs)"
      ],
      "metadata": {
        "id": "ExMLThLofLn2",
        "outputId": "6d9b7a07-7f8e-4857-a179-0bbaf40ed8bc",
        "colab": {
          "base_uri": "https://localhost:8080/",
          "height": 324
        }
      },
      "execution_count": 102,
      "outputs": [
        {
          "output_type": "display_data",
          "data": {
            "text/plain": [
              "<Figure size 640x480 with 10 Axes>"
            ],
            "image/png": "[encoded data removed]"
          },
          "metadata": {}
        }
      ]
    },
    {
      "cell_type": "markdown",
      "source": [
        "There is not too much overfitting at work here apparently. We can quantify this by computing the reconstruction loss over the test dataset (below) and comparing it to the reconstruction loss over the training dataset at the end of training (check the training cell above)."
      ],
      "metadata": {
        "id": "icWAOpmWKwid"
      }
    },
    {
      "cell_type": "code",
      "source": [
        "ae_model.eval()\n",
        "test_loss=0.0\n",
        "\n",
        "# We will store all the latent codes corresponding to the test images for reuse\n",
        "# later on.\n",
        "zs_test = np.zeros((len(mnist_test_loader.dataset),ae_model.latent_dim))\n",
        "\n",
        "n = 0\n",
        "with tqdm(mnist_test_loader, unit=\"batch\") as tepoch:\n",
        "  for data, labels in tepoch:\n",
        "    # Put the data on the correct device:\n",
        "    data = data.to(device)\n",
        "\n",
        "    # Pass the data through the model\n",
        "    predict = ae_model(data)\n",
        "    reconstructions = predict['reconstructions']\n",
        "    z = predict['codes']\n",
        "\n",
        "    # Compute the AE loss\n",
        "    loss = reconstruction_loss(reconstructions, data)\n",
        "\n",
        "    # Store quantities of interest\n",
        "    minibatch_size = z.shape[0]\n",
        "    zs_test[n:(n+minibatch_size),:] = z.detach().cpu().numpy()\n",
        "\n",
        "    # Compute the loss\n",
        "    test_loss += loss.item()\n",
        "\n",
        "    # tqdm bar displays the loss\n",
        "    tepoch.set_postfix(loss=loss.item())\n",
        "\n",
        "    # increment n to fill next parts of the arrays\n",
        "    n += minibatch_size\n",
        "\n",
        "print('Test Loss: {:.4f}'.format(test_loss/len(mnist_test_loader)))"
      ],
      "metadata": {
        "id": "HbyzjCqUjHQU",
        "outputId": "ecaba2c1-7091-44a2-f219-44be0a1da6ce",
        "colab": {
          "base_uri": "https://localhost:8080/"
        }
      },
      "execution_count": 103,
      "outputs": [
        {
          "output_type": "stream",
          "name": "stderr",
          "text": [
            "100%|██████████| 157/157 [00:05<00:00, 27.13batch/s, loss=82.2]"
          ]
        },
        {
          "output_type": "stream",
          "name": "stdout",
          "text": [
            "Test Loss: 85.7555\n"
          ]
        },
        {
          "output_type": "stream",
          "name": "stderr",
          "text": [
            "\n"
          ]
        }
      ]
    },
    {
      "cell_type": "markdown",
      "metadata": {
        "id": "assPaJqB5sa-"
      },
      "source": [
        "The test and training average reconstruction losses are indeed similar."
      ]
    },
    {
      "cell_type": "markdown",
      "source": [
        "Are you happy with the quality of the __reconstructions__? Next, we will see if this autoencoder model is good at __generating__ images."
      ],
      "metadata": {
        "id": "SoLTYl8ELZsj"
      }
    },
    {
      "cell_type": "markdown",
      "source": [
        "**Answer:**\n",
        "\n",
        "The autoencoder shows strong performance in generalization, evidenced by consistent reconstruction losses across training and test data, indicating no significant overfitting. For qualitative evaluation, visual inspection of reconstructions is crucial to confirm if the model accurately captures important image features.\n",
        "\n",
        "Regarding image generation, traditional autoencoders like yours are limited compared to specialized models such as Variational Autoencoders (VAEs) or Generative Adversarial Networks (GANs), which are better suited for generating new images. Exploring latent space interpolations can provide insights into how the model transitions between learned features, but for generating new images, consider transitioning to a model designed for generative tasks."
      ],
      "metadata": {
        "id": "cERH5MvoBgit"
      }
    },
    {
      "cell_type": "markdown",
      "metadata": {
        "id": "zO9ATQEiyr3b"
      },
      "source": [
        "# 2. Image generation with the vanilla autoencoder\n",
        "\n",
        "Unfortunately, the vanilla autoencoder is not in itself a generative model because it does not define a joint probability distribution of the data and latent codes. We need to come up with roundabout ways to synthetize data based on this model."
      ]
    },
    {
      "cell_type": "markdown",
      "source": [
        "In this section, we consider two naïve approaches to creating generative models from the AE. The general idea is the following:\n",
        "\n",
        "- train an autoencoder\n",
        "- estimate different statistics (mean, variance) of the data in the latent space\n",
        "- using these statistics, define a model based on a Gaussian distribution in the latent space\n",
        "- generate latent codes with this distribution, then decode them back to image space to obtain synthetic images\n",
        "\n",
        "We will consider these two situations :\n",
        "\n",
        "- a multivariate Gaussian distribution with __diagonal covariance matrix__ (each latent variable is an independent random variable). This requires the mean and variance in each latent variable;\n",
        "- a multivariate Gaussian distribution with __non-diagonal covariance matrix__. This requires the mean and covariance matrix of the latent codes.\n",
        "\n",
        "Obviously, since this is done _a posteriori_ after training the autoencoder, there is nothing which guarantees that the latent codes do indeed follow a Gaussian distribution. Our goal will be to verify that Variational Autoencoders indeed produce better results than such naïve approaches."
      ],
      "metadata": {
        "id": "ECzGyqbyMaCt"
      }
    },
    {
      "cell_type": "markdown",
      "metadata": {
        "id": "x2M1-BRmf56d"
      },
      "source": [
        "### 2.0. Defining and generating random Gaussian latent codes\n",
        "\n",
        "Let $z$ be a latent code and $D$ the dimension of the latent space (called ``latent_dim`` in the code). We suppose that the $z$'s follow a multivariate Gaussian distribution, written as:\n",
        "\n",
        "\\begin{equation}\n",
        "z \\sim \\mathcal{N}\\left(\n",
        "\\mu,\n",
        "\\bf{C}\n",
        "\\right),\n",
        "\\end{equation}\n",
        "where $\\mu$ and $\\bf{C}$ are the mean vector and covariance matrix of the Gaussian distribution. To define such a generative model, we must therefore determine $\\mu$ and $\\bf{C}$. Once this is done, we can generate a random Gaussian latent code in the following manner:\n",
        "\n",
        "\\begin{equation}\n",
        "z = \\mu + {\\bf{L}} \\varepsilon,\n",
        "\\end{equation}\n",
        "where $\\varepsilon$ is a random vector drawn from a multivariate normal distribution ($\\mu=0$ and ${\\bf{C}} = \\text{Id}$), and $\\bf{L}$ is output by a Cholesky decomposition of the positive semi-definite covariance matrix. In other words:\n",
        "\n",
        "\\begin{equation}\n",
        "{\\bf{C}} = {\\bf{L}}{\\bf{L}^T}.\n",
        "\\end{equation}\n",
        "\n",
        "This gives a simple method of producing a multivariate Gaussian random variable."
      ]
    },
    {
      "cell_type": "markdown",
      "metadata": {
        "id": "NWpucm972i7j"
      },
      "source": [
        "### 2.1. A Gaussian model with diagonal covariance\n",
        "\n",
        "The first naïve model is  defined in this first case as:\n",
        "\n",
        "- $\\bf{\\mu}=\\left[\\mu_0, \\mu_1, \\cdots, \\mu_{d-1}\\right]^T$\n",
        "- $\n",
        "  \\bf{C} = \\begin{pmatrix}\n",
        "\\sigma_0^2 & 0 & \\cdots & 0 \\\\\n",
        "0 & \\sigma_1^2 & \\cdots & 0 \\\\\n",
        "\\vdots & \\ddots & \\ddots & \\vdots \\\\\n",
        "0 & 0 & \\cdots & \\sigma_{d-1}^2\n",
        "\\end{pmatrix}$\n",
        "\n",
        "In this situation, therefore, the matrix $\\bf{L}$ can be calculated quite simply, as:\n",
        "- $\n",
        "  \\bf{L} = \\begin{pmatrix}\n",
        "\\sigma_0 & 0 & \\cdots & 0 \\\\\n",
        "0 & \\sigma_1 & \\cdots & 0 \\\\\n",
        "\\vdots & \\ddots & \\ddots & \\vdots \\\\\n",
        "0 & 0 & \\cdots & \\sigma_{d-1}\n",
        "\\end{pmatrix}$"
      ]
    },
    {
      "cell_type": "markdown",
      "source": [
        "We are going to compute the mean and the component-wise standard deviations from a batch of data. For simplicity you are going to use the latent codes `zs_test` corresponding to the test data to estimate these quantities.<br>\n",
        "\n",
        "It is actually bad practice, and it would be better to estimate them from the training dataset. We do not do so here for convenience because we have already computed `zs_test` above (we have verified above that overfitting was not a problem, so the difference between the two estimates should be minor)."
      ],
      "metadata": {
        "id": "gZCIY7RsN4NY"
      }
    },
    {
      "cell_type": "code",
      "execution_count": 104,
      "metadata": {
        "id": "sUXHCtvW2iQ0",
        "outputId": "d7a7ed2a-3aff-4074-9bd1-4573af0ceac3",
        "colab": {
          "base_uri": "https://localhost:8080/"
        }
      },
      "outputs": [
        {
          "output_type": "stream",
          "name": "stdout",
          "text": [
            "Average of latent codes: [-8.85468533 15.17751306 17.01929926 11.58433965 -3.13572592  6.38032318\n",
            " -8.10075021 -0.12056771  4.12286407  6.8625337 ]\n",
            "Standard deviation of latent codes: [5.88665917 5.26157446 5.59998321 5.54143984 6.40677863 5.728305\n",
            " 6.27025392 6.03492374 4.92420857 5.50876205]\n"
          ]
        }
      ],
      "source": [
        "# zs_test is of shape (N,D) where N is the test dataset size and D the latent dimension\n",
        "# Compute the vector of mean values and the vector of component-wise std's.\n",
        "z_average = np.mean(zs_test, axis=0)\n",
        "z_sigma = np.std(zs_test, axis=0)\n",
        "\n",
        "print(\"Average of latent codes:\",z_average)\n",
        "print(\"Standard deviation of latent codes:\",z_sigma)"
      ]
    },
    {
      "cell_type": "markdown",
      "metadata": {
        "id": "Lrpc62ML9K4l"
      },
      "source": [
        "Now, in the next cell generate data with this simple generative model using the approach described above. Display these images with the `display_images` function.\n",
        "\n",
        "__Hint__. You do not actually have to define the matrix $\\bf{L}$ in this case, an element-wise multiplication of two (properly chosen) vectors will suffice. To generate multivariate normal random variables you can use the following Pytorch function:\n",
        "\n",
        "- `torch.randn`\n",
        "\n",
        "To convert a numpy array to pytorch tensor, use `torch.from_numpy(...).float()`\n"
      ]
    },
    {
      "cell_type": "code",
      "source": [
        "def generate_images_diagonal_gaussian(ae_model, z_average, z_sigma, n_images = 5):\n",
        "    # Sample noise from a standard Gaussian distribution\n",
        "    epsilon = torch.randn(n_images, len(z_average))\n",
        "\n",
        "    # Convert mean and std dev from numpy arrays to torch tensors\n",
        "    z_average = torch.from_numpy(z_average).float().to(device)\n",
        "    z_sigma = torch.from_numpy(z_sigma).float().to(device)\n",
        "\n",
        "    # Using epsilon, generate samples from N(mu,C)\n",
        "    z_generated = z_average + z_sigma * epsilon\n",
        "\n",
        "    # Decode back to image space\n",
        "    imgs_generated = ae_model.decoder(z_generated.to(device))\n",
        "\n",
        "    return imgs_generated"
      ],
      "metadata": {
        "id": "cRXyUkVeppif"
      },
      "execution_count": 105,
      "outputs": []
    },
    {
      "cell_type": "code",
      "execution_count": 106,
      "metadata": {
        "id": "1_Tekii-9QEo",
        "outputId": "39671caa-4c33-4e12-b071-460b694bb91a",
        "colab": {
          "base_uri": "https://localhost:8080/",
          "height": 122
        }
      },
      "outputs": [
        {
          "output_type": "display_data",
          "data": {
            "text/plain": [
              "<Figure size 640x480 with 5 Axes>"
            ],
            "image/png": "[encoded data removed]"
          },
          "metadata": {}
        }
      ],
      "source": [
        "imgs_generated = generate_images_diagonal_gaussian(ae_model, z_average, z_sigma, n_images=5)\n",
        "display_images(imgs_generated)"
      ]
    },
    {
      "cell_type": "markdown",
      "metadata": {
        "id": "xiNaEgLIloeA"
      },
      "source": [
        "What do you think of these samples? Next let's try a slightly more sophisticated model."
      ]
    },
    {
      "cell_type": "markdown",
      "source": [
        "**Answer:**\n",
        "\n",
        "The main issues with the generated images using the simple Gaussian model with diagonal covariance in the vanilla autoencoder were poor visual quality and a lack of diversity among the images. The visual quality issue relates to the images not being crisp or detailed enough, often appearing blurry or distorted, which makes them not easily recognizable as MNIST digits. The lack of diversity means the generated images look too similar to each other, indicating that the model's latent space may not be capturing the full complexity and variability of the dataset. These issues suggest that the model's current approach to sampling and reconstructing images from the latent space is too simplistic and fails to adequately model the underlying data distribution."
      ],
      "metadata": {
        "id": "E5f1k60tJO3W"
      }
    },
    {
      "cell_type": "markdown",
      "metadata": {
        "id": "WjVPfkRKYMSh"
      },
      "source": [
        "### 2.2. Non-diagonal Gaussian model\n",
        "\n",
        "The second model uses a non-diagonal covariance matrix $\\bf{C}$ in the multivariate Gaussian distribution. In the next cell, calculate the mean and covariance matrix from `zs_test`.\n",
        "\n",
        "__Hint__. You can use the `np.cov` function. Make sure to put the data in the right format for this. Print the shape of z_covariance to verify that you have a matrix of the correct shape (the covariance matrix and not the Gram matrix)."
      ]
    },
    {
      "cell_type": "code",
      "execution_count": 107,
      "metadata": {
        "id": "ArXgre39CD2H",
        "outputId": "cd92a574-1a18-42b2-f1dd-5a5c7770a1ca",
        "colab": {
          "base_uri": "https://localhost:8080/"
        }
      },
      "outputs": [
        {
          "output_type": "stream",
          "name": "stdout",
          "text": [
            "Average of latent codes: [-8.85468533 15.17751306 17.01929926 11.58433965 -3.13572592  6.38032318\n",
            " -8.10075021 -0.12056771  4.12286407  6.8625337 ]\n",
            "Covariance matrix of latent codes: [[ 34.65622185  -2.3458894    4.97472187   4.96496511 -13.70362242\n",
            "  -13.89412914   0.87368037   4.33836289   9.65479222  -5.96452637]\n",
            " [ -2.3458894   27.68693447   4.0521347    3.19249659   2.65650213\n",
            "    1.97665947   8.04953757   7.60374308   2.83279537  -4.30234782]\n",
            " [  4.97472187   4.0521347   31.36294827   0.0507858   -4.9441055\n",
            "    0.15652958  -8.87755231  -4.52451079   4.73846331  -4.41356582]\n",
            " [  4.96496511   3.19249659   0.0507858   30.71062659  -9.94824638\n",
            "   -0.22789847  -8.29080525   3.94942053  -4.55463986  -5.02000363]\n",
            " [-13.70362242   2.65650213  -4.9441055   -9.94824638  41.05091747\n",
            "   -5.81350489   8.42850968 -15.81509577  -7.94425797  11.61443449]\n",
            " [-13.89412914   1.97665947   0.15652958  -0.22789847  -5.81350489\n",
            "   32.81675985  -9.21972314  15.88606972   3.88591165  -7.22017182]\n",
            " [  0.87368037   8.04953757  -8.87755231  -8.29080525   8.42850968\n",
            "   -9.21972314  39.32001624   3.11437706  -1.51723479   8.05876936]\n",
            " [  4.33836289   7.60374308  -4.52451079   3.94942053 -15.81509577\n",
            "   15.88606972   3.11437706  36.42394699   5.04802049 -20.57855388]\n",
            " [  9.65479222   2.83279537   4.73846331  -4.55463986  -7.94425797\n",
            "    3.88591165  -1.51723479   5.04802049  24.25025507  -3.10347962]\n",
            " [ -5.96452637  -4.30234782  -4.41356582  -5.02000363  11.61443449\n",
            "   -7.22017182   8.05876936 -20.57855388  -3.10347962  30.34949426]]\n"
          ]
        }
      ],
      "source": [
        "z_average = np.mean(zs_test, axis=0)\n",
        "z_covariance = np.cov(zs_test, rowvar=False)\n",
        "\n",
        "print(\"Average of latent codes:\", z_average)\n",
        "print(\"Covariance matrix of latent codes:\", z_covariance)"
      ]
    },
    {
      "cell_type": "markdown",
      "metadata": {
        "id": "JhXU8cnTZ0E8"
      },
      "source": [
        "Now, generate some samples with this distribution. In this case, you actually have to calculate the Cholesky decomposition and find $\\bf{L}$. For this, you can use `np.linalg.cholesky`. Then compute the latent codes according to $z = \\mu + {\\bf{L}} \\varepsilon$.\n",
        "\n",
        "__Hint__. You can use `torch.matmul`. Pay attention to the dimension of `epsilon` to implement it correctly."
      ]
    },
    {
      "cell_type": "code",
      "source": [
        "# calculate Cholesky decomposition of covariance matrix : C = L L^T\n",
        "L = np.linalg.cholesky(z_covariance)"
      ],
      "metadata": {
        "id": "rSbYZLZGrcdR"
      },
      "execution_count": 108,
      "outputs": []
    },
    {
      "cell_type": "code",
      "execution_count": 109,
      "metadata": {
        "id": "zXGlJTZ7Z4ed"
      },
      "outputs": [],
      "source": [
        "def generate_images_non_diagonal_gaussian(ae_model, z_average, L, n_images=5):\n",
        "    # Generate noise according to a standard Gaussian distribution\n",
        "    epsilon = torch.randn(n_images, L.shape[0]).to(device)\n",
        "\n",
        "    # Convert the average and Cholesky decomposition to PyTorch tensors\n",
        "    z_average = torch.from_numpy(z_average).float().to(device)\n",
        "    L = torch.from_numpy(L).float().to(device)\n",
        "\n",
        "    # Sample latent codes using epsilon\n",
        "    # The matrix multiplication transforms epsilon into the distribution defined by the mean and covariance\n",
        "    z_generated = z_average + torch.matmul(epsilon, L.t())\n",
        "\n",
        "    # Decode back to image space\n",
        "    imgs_generated = ae_model.decoder(z_generated.to(device))\n",
        "\n",
        "    return imgs_generated\n"
      ]
    },
    {
      "cell_type": "markdown",
      "source": [
        "Generate images using this model now:"
      ],
      "metadata": {
        "id": "xs0o_VUvR3jl"
      }
    },
    {
      "cell_type": "code",
      "source": [
        "imgs_generated = generate_images_non_diagonal_gaussian(ae_model, z_average, L, n_images = 5)\n",
        "display_images(imgs_generated)"
      ],
      "metadata": {
        "id": "kGCJVjbXsKLE",
        "outputId": "e5d9175d-4935-4eb3-b588-378f08064b67",
        "colab": {
          "base_uri": "https://localhost:8080/",
          "height": 122
        }
      },
      "execution_count": 110,
      "outputs": [
        {
          "output_type": "display_data",
          "data": {
            "text/plain": [
              "<Figure size 640x480 with 5 Axes>"
            ],
            "image/png": "[encoded data removed]"
          },
          "metadata": {}
        }
      ]
    },
    {
      "cell_type": "markdown",
      "metadata": {
        "id": "qLtsdri6zKEm"
      },
      "source": [
        "You should see some improvement, but we can do better than this. Thus, we turn to the variational autoencoder."
      ]
    },
    {
      "cell_type": "markdown",
      "metadata": {
        "id": "8UqeNhuSdnDt"
      },
      "source": [
        "# 3. Variational autoencoder\n",
        "\n",
        "Now, we are going to create a variational autoencoder to carry out __image generation__. Let's first recall the idea of a variational autoencoder.\n",
        "\n",
        "### Main idea\n",
        "\n",
        "The main idea is to create an autoencoder whose latent codes follow a certain distribution (a Gaussian distribution in practice). This is done with two tools :\n",
        "\n",
        "- A specific architecture, where the encoder produces the mean and variance of the latent codes\n",
        "- A specially designed loss function\n",
        "\n",
        "Once the VAE is trained, it is possible to sample in the latent space by producing random normal variables and simply decoding.\n",
        "\n",
        "### Architecture\n",
        "\n",
        "The architecture of the VAE model is the same as before (using `Encoder` with `multiplier=2` and `Decoder`). However the wrapper `VAEModel` will be a bit more complex as we need to implement the reparametrization trick. We will also implement the code to generate samples (for test time).\n",
        "\n",
        "### Variational Autoencoder loss\n",
        "\n",
        "The VAE loss consists in a reconstruction loss and a KL divergence term.\n",
        "\n",
        "- The reconstruction loss is the same `reconstruction_loss` as before. In other words, the reconstructions are compared to the input images using binary cross-entropy. The reconstructions are generated by sampling a latent code from $q(z|x)$ and decoding it back to image space.\n",
        "\n",
        "- You will implement the KL divergence term manually below."
      ]
    },
    {
      "cell_type": "code",
      "execution_count": 111,
      "metadata": {
        "id": "6siMHQLheM4T"
      },
      "outputs": [],
      "source": [
        "class VAEModel(nn.Module):\n",
        "    def __init__(self, latent_dim):\n",
        "        super(VAEModel, self).__init__()\n",
        "\n",
        "        self.latent_dim = latent_dim\n",
        "        # Encoder and Decoder Initialization\n",
        "        self.encoder = Encoder(latent_dim=latent_dim, multiplier=2)  # 'multiplier=2' for mean and log-var\n",
        "        self.decoder = Decoder(latent_dim=latent_dim)\n",
        "\n",
        "    def reparameterize(self, mean, logvar, mode='sample'):\n",
        "        \"\"\"\n",
        "        Samples from a normal distribution using the reparameterization trick.\n",
        "\n",
        "        Parameters\n",
        "        ----------\n",
        "        mean : torch.Tensor\n",
        "            Mean of the normal distribution. Shape (batch_size, latent_dim)\n",
        "\n",
        "        logvar : torch.Tensor\n",
        "            Diagonal log variance of the normal distribution. Shape (batch_size,\n",
        "            latent_dim)\n",
        "\n",
        "        mode : 'sample' or 'mean'\n",
        "            Returns either a sample from qzx, or just the mean of qzx. The former\n",
        "            is useful at training time. The latter is useful at inference time as\n",
        "            the mean is usually used for reconstruction, rather than a sample.\n",
        "        \"\"\"\n",
        "        if mode=='sample':\n",
        "            # Implements the reparametrization trick (slide 43):\n",
        "            std = torch.exp(0.5 * logvar)  # Standard deviation\n",
        "            eps = torch.randn_like(std)  # Random noise\n",
        "            return mean + eps * std\n",
        "        elif mode=='mean':\n",
        "            return mean\n",
        "        else:\n",
        "            return ValueError(\"Unknown mode: {mode}\".format(mode))\n",
        "\n",
        "    def forward(self, x, mode='sample'):\n",
        "        \"\"\"\n",
        "        Forward pass of model, used for training or reconstruction.\n",
        "\n",
        "        Parameters\n",
        "        ----------\n",
        "        x : torch.Tensor\n",
        "            Batch of data. Shape (batch_size, n_chan, height, width)\n",
        "\n",
        "        mode : 'sample' or 'mean'\n",
        "            Reconstructs using either a sample from qzx or the mean of qzx\n",
        "        \"\"\"\n",
        "\n",
        "        # stats_qzx is the output of the encoder\n",
        "        stats_qzx = self.encoder(x)\n",
        "\n",
        "        # Use the reparametrization trick to sample from q(z|x)\n",
        "        samples_qzx = self.reparameterize(*stats_qzx.unbind(-1), mode=mode)\n",
        "\n",
        "        # Decode the samples to image space\n",
        "        reconstructions = self.decoder(samples_qzx)\n",
        "\n",
        "        # Return everything:\n",
        "        return {\n",
        "            'reconstructions': reconstructions,\n",
        "            'stats_qzx': stats_qzx,\n",
        "            'samples_qzx': samples_qzx}\n",
        "\n",
        "    def sample_qzx(self, x):\n",
        "        \"\"\"\n",
        "        Returns a sample z from the latent distribution q(z|x).\n",
        "\n",
        "        Parameters\n",
        "        ----------\n",
        "        x : torch.Tensor\n",
        "            Batch of data. Shape (batch_size, n_chan, height, width)\n",
        "        \"\"\"\n",
        "        stats_qzx = self.encoder(x)\n",
        "        mean, logvar = stats_qzx[:, :self.latent_dim], stats_qzx[:, self.latent_dim:]\n",
        "        samples_qzx = self.reparameterize(mean, logvar)\n",
        "        return samples_qzx\n",
        "\n",
        "    def sample_pz(self, N):\n",
        "        samples_pz = torch.randn(N, self.latent_dim, device=self.encoder.conv1.weight.device)\n",
        "        return samples_pz\n",
        "\n",
        "    def generate_samples(self, samples_pz=None, N=None):\n",
        "        if samples_pz is None:\n",
        "            if N is None:\n",
        "                return ValueError(\"samples_pz and N cannot be set to None at the same time. Specify one of the two.\")\n",
        "\n",
        "            # If samples z are not provided, we sample N samples from the prior\n",
        "            # p(z)=N(0,Id), using sample_pz\n",
        "            samples_pz = self.sample_pz(N) # FILL IN CODE\n",
        "\n",
        "        # Decode the z's to obtain samples in image space (here, probability\n",
        "        # maps which can later be sampled from or thresholded)\n",
        "        generations = self.decoder(samples_pz) # FILL IN CODE\n",
        "        return {'generations': generations}"
      ]
    },
    {
      "cell_type": "markdown",
      "source": [
        "The KL divergence term is computed as per the regularization term in slide 45 i.e., for each data sample in the mini-batch:\n",
        "$$\\frac{1}{2}\\sum_{j=1}^D (\\mu_j^2 + \\sigma_j^2 - 1 - \\log{\\sigma_j^2})$$"
      ],
      "metadata": {
        "id": "MUsrzszm-Hnf"
      }
    },
    {
      "cell_type": "code",
      "execution_count": 112,
      "metadata": {
        "id": "-pc40PPM7adL"
      },
      "outputs": [],
      "source": [
        "def kl_normal_loss(mean, logvar):\n",
        "    \"\"\"\n",
        "    Calculates the KL divergence between a normal distribution\n",
        "    with diagonal covariance and a unit normal distribution.\n",
        "\n",
        "    Parameters\n",
        "    ----------\n",
        "    mean : torch.Tensor\n",
        "        Mean of the normal distribution. Shape (batch_size, latent_dim) where\n",
        "        D is dimension of distribution.\n",
        "\n",
        "    logvar : torch.Tensor\n",
        "        Diagonal log variance of the normal distribution. Shape (batch_size,\n",
        "        latent_dim)\n",
        "    \"\"\"\n",
        "    # To be consistent with the reconstruction loss, wetake the mean over the\n",
        "    # minibatch (i.e., compute for each sample in the minibatch according to\n",
        "    # the equation above, then take the mean).\n",
        "    # Calculate each term of the KL divergence formula\n",
        "    term1 = mean.pow(2)\n",
        "    term2 = logvar.exp()\n",
        "    term3 = 1\n",
        "    term4 = logvar\n",
        "\n",
        "    # Sum terms up and average over all dimensions and then take the mean over the batch\n",
        "    latent_kl = 0.5 * torch.sum(term1 + term2 - term3 - term4, dim=1).mean()\n",
        "\n",
        "    return latent_kl"
      ]
    },
    {
      "cell_type": "markdown",
      "source": [
        "The `BetaVAELoss` puts it all together as per slide 55."
      ],
      "metadata": {
        "id": "WhJbXJ0y_8OI"
      }
    },
    {
      "cell_type": "code",
      "execution_count": 114,
      "metadata": {
        "id": "x_hr2EwiCRSv"
      },
      "outputs": [],
      "source": [
        "class BetaVAELoss(object):\n",
        "    \"\"\"\n",
        "    Compute the Beta-VAE loss\n",
        "\n",
        "    Parameters\n",
        "    ----------\n",
        "        beta: (scalar) the weight assigned to the regularization term\n",
        "    \"\"\"\n",
        "\n",
        "    def __init__(self, beta):\n",
        "        self.beta = beta\n",
        "\n",
        "    def __call__(self, reconstructions, data, stats_qzx):\n",
        "        mean, logvar = stats_qzx.unbind(-1)\n",
        "\n",
        "        # Reconstruction loss\n",
        "        rec_loss = reconstruction_loss(reconstructions, data)\n",
        "\n",
        "        # KL divergence loss\n",
        "        kl_loss = kl_normal_loss(mean, logvar)\n",
        "\n",
        "        # Total loss of beta-VAE\n",
        "        loss = rec_loss + self.beta * kl_loss\n",
        "\n",
        "        return loss"
      ]
    },
    {
      "cell_type": "markdown",
      "source": [
        "### Training the Variational Autoencoder"
      ],
      "metadata": {
        "id": "3RGTCPZXWaz6"
      }
    },
    {
      "cell_type": "markdown",
      "metadata": {
        "id": "hk_9fDIphlsi"
      },
      "source": [
        "This follows the traditional pipeline that you are by now familiar with."
      ]
    },
    {
      "cell_type": "code",
      "execution_count": 115,
      "metadata": {
        "id": "bOdRTeDAMJCO"
      },
      "outputs": [],
      "source": [
        "latent_dim = 10\n",
        "\n",
        "learning_rate = 1e-3\n",
        "n_epoch = 5 # use the same number of epochs as before for fairness"
      ]
    },
    {
      "cell_type": "code",
      "source": [
        "device = torch.device(\"cuda:0\" if torch.cuda.is_available() else \"cpu\")\n",
        "print(device)"
      ],
      "metadata": {
        "id": "xGN3jpxqOOwg",
        "outputId": "63e057b6-7d6b-4e46-975c-8c3a6c13b51d",
        "colab": {
          "base_uri": "https://localhost:8080/"
        }
      },
      "execution_count": 116,
      "outputs": [
        {
          "output_type": "stream",
          "name": "stdout",
          "text": [
            "cpu\n"
          ]
        }
      ]
    },
    {
      "cell_type": "code",
      "execution_count": 118,
      "metadata": {
        "id": "D5XnxIE1L1bI"
      },
      "outputs": [],
      "source": [
        "vae_model = VAEModel(latent_dim=latent_dim)\n",
        "vae_model = vae_model.to(device)"
      ]
    },
    {
      "cell_type": "code",
      "execution_count": 119,
      "metadata": {
        "id": "fBVo5s-dQCBb"
      },
      "outputs": [],
      "source": [
        "# To keep it simple, we can leave beta at 1.0 for the beta-VAE loss\n",
        "# Feel free to experiment with it to see different trade-offs between reconstruction\n",
        "# and generation performance.\n",
        "\n",
        "beta = 1.0\n",
        "vae_loss = BetaVAELoss(beta=beta)"
      ]
    },
    {
      "cell_type": "code",
      "execution_count": 120,
      "metadata": {
        "id": "GiqsBcP7KIT3"
      },
      "outputs": [],
      "source": [
        "# AdamW, with learning rate set to the parameter above and weight decay to 1e-4\n",
        "optimizer = optim.AdamW(vae_model.parameters(), lr=learning_rate, weight_decay=1e-4)"
      ]
    },
    {
      "cell_type": "code",
      "source": [
        "vae_model.train()\n",
        "\n",
        "for epoch in range(0,n_epoch):\n",
        "  train_loss=0.0\n",
        "\n",
        "  with tqdm(mnist_train_loader, unit=\"batch\") as tepoch:\n",
        "    for data, labels in tepoch:\n",
        "        tepoch.set_description(f\"Epoch {epoch}\")\n",
        "\n",
        "        # Move data to the appropriate device\n",
        "        data = data.to(device)\n",
        "\n",
        "        # Zero the gradients\n",
        "        optimizer.zero_grad()\n",
        "\n",
        "        # Pass the input data through the VAE model\n",
        "        predict = vae_model(data)\n",
        "        reconstructions = predict['reconstructions']\n",
        "        stats_qzx = predict['stats_qzx']\n",
        "\n",
        "        # Compute the beta-VAE loss\n",
        "        loss = vae_loss(reconstructions, data, stats_qzx)\n",
        "\n",
        "        # Backpropagate the loss\n",
        "        loss.backward()\n",
        "        optimizer.step()\n",
        "\n",
        "        # Aggregate the training loss for display at the end of the epoch\n",
        "        train_loss += loss.item()\n",
        "\n",
        "        # Update the tqdm bar to show the current loss\n",
        "        tepoch.set_postfix(loss=loss.item())\n",
        "\n",
        "  print('Epoch {}: Train Loss: {:.4f}'.format(epoch, train_loss/len(mnist_train_loader)))"
      ],
      "metadata": {
        "id": "z4KHRufgxNmR",
        "outputId": "e5c8b009-1e80-4d1b-ce8e-f0047f73ac52",
        "colab": {
          "base_uri": "https://localhost:8080/"
        }
      },
      "execution_count": 121,
      "outputs": [
        {
          "output_type": "stream",
          "name": "stderr",
          "text": [
            "Epoch 0: 100%|██████████| 938/938 [00:58<00:00, 15.93batch/s, loss=139]\n"
          ]
        },
        {
          "output_type": "stream",
          "name": "stdout",
          "text": [
            "Epoch 0: Train Loss: 175.2940\n"
          ]
        },
        {
          "output_type": "stream",
          "name": "stderr",
          "text": [
            "Epoch 1: 100%|██████████| 938/938 [00:58<00:00, 15.95batch/s, loss=112]\n"
          ]
        },
        {
          "output_type": "stream",
          "name": "stdout",
          "text": [
            "Epoch 1: Train Loss: 125.6520\n"
          ]
        },
        {
          "output_type": "stream",
          "name": "stderr",
          "text": [
            "Epoch 2: 100%|██████████| 938/938 [00:59<00:00, 15.81batch/s, loss=125]\n"
          ]
        },
        {
          "output_type": "stream",
          "name": "stdout",
          "text": [
            "Epoch 2: Train Loss: 117.8193\n"
          ]
        },
        {
          "output_type": "stream",
          "name": "stderr",
          "text": [
            "Epoch 3: 100%|██████████| 938/938 [00:58<00:00, 15.93batch/s, loss=115]\n"
          ]
        },
        {
          "output_type": "stream",
          "name": "stdout",
          "text": [
            "Epoch 3: Train Loss: 114.0299\n"
          ]
        },
        {
          "output_type": "stream",
          "name": "stderr",
          "text": [
            "Epoch 4: 100%|██████████| 938/938 [00:59<00:00, 15.86batch/s, loss=113]"
          ]
        },
        {
          "output_type": "stream",
          "name": "stdout",
          "text": [
            "Epoch 4: Train Loss: 111.7044\n"
          ]
        },
        {
          "output_type": "stream",
          "name": "stderr",
          "text": [
            "\n"
          ]
        }
      ]
    },
    {
      "cell_type": "markdown",
      "source": [
        "### Testing the VAE model"
      ],
      "metadata": {
        "id": "3DFW0vPRXrSB"
      }
    },
    {
      "cell_type": "markdown",
      "source": [
        "Let's check how well the VAE reconstructs training samples:"
      ],
      "metadata": {
        "id": "Who7o-hAXLhl"
      }
    },
    {
      "cell_type": "code",
      "execution_count": 122,
      "metadata": {
        "id": "NiRg43Bgx_MH",
        "outputId": "a454743e-ec51-4036-8cc2-a36bc50193be",
        "colab": {
          "base_uri": "https://localhost:8080/",
          "height": 324
        }
      },
      "outputs": [
        {
          "output_type": "display_data",
          "data": {
            "text/plain": [
              "<Figure size 640x480 with 10 Axes>"
            ],
            "image/png": "[encoded data removed]"
          },
          "metadata": {}
        }
      ],
      "source": [
        "# reconstructing training images\n",
        "train_imgs = next(iter(mnist_train_loader))[0]\n",
        "display_ae_images(vae_model, train_imgs)"
      ]
    },
    {
      "cell_type": "markdown",
      "source": [
        "Same for test samples:"
      ],
      "metadata": {
        "id": "Bqa9wmZ3XSxD"
      }
    },
    {
      "cell_type": "code",
      "source": [
        "# reconstructing test images\n",
        "test_imgs = next(iter(mnist_test_loader))[0]\n",
        "display_ae_images(vae_model, test_imgs)"
      ],
      "metadata": {
        "id": "IRJ9-V0tx_MJ",
        "outputId": "adf990df-9541-47cd-f186-7f9bc517c053",
        "colab": {
          "base_uri": "https://localhost:8080/",
          "height": 324
        }
      },
      "execution_count": 123,
      "outputs": [
        {
          "output_type": "display_data",
          "data": {
            "text/plain": [
              "<Figure size 640x480 with 10 Axes>"
            ],
            "image/png": "[encoded data removed]"
          },
          "metadata": {}
        }
      ]
    },
    {
      "cell_type": "markdown",
      "source": [
        "Let's compute the quantitative `reconstruction_loss` on the test data:"
      ],
      "metadata": {
        "id": "OR-uGTX2XaEB"
      }
    },
    {
      "cell_type": "code",
      "source": [
        "# !!! If you copy paste code, don't forget to change ae_model to vae_model !!!\n",
        "\n",
        "# FILL IN CODE\n",
        "\n",
        "# Visual evaluation: Reconstruct training images\n",
        "train_imgs = next(iter(mnist_train_loader))[0]\n",
        "display_ae_images(vae_model, train_imgs)\n",
        "\n",
        "# Visual evaluation: Reconstruct test images\n",
        "test_imgs = next(iter(mnist_test_loader))[0]\n",
        "display_ae_images(vae_model, test_imgs)\n",
        "\n",
        "# Quantitative evaluation: Compute reconstruction loss on the test data\n",
        "vae_model.eval()  # Set the model to evaluation mode\n",
        "\n",
        "test_loss = 0.0\n",
        "n_samples = 0\n",
        "\n",
        "with torch.no_grad():  # Inference only, no gradients needed\n",
        "    for data, _ in tqdm(mnist_test_loader, desc=\"Computing test loss\", unit=\"batch\"):\n",
        "        data = data.to(device)\n",
        "        output = vae_model(data)\n",
        "        reconstructions = output['reconstructions']\n",
        "\n",
        "        loss = reconstruction_loss(reconstructions, data)\n",
        "        test_loss += loss.item() * data.size(0)\n",
        "        n_samples += data.size(0)\n",
        "\n",
        "average_test_loss = test_loss / n_samples\n",
        "print(f\"Average Reconstruction Loss on Test Data: {average_test_loss:.4f}\")\n"
      ],
      "metadata": {
        "id": "P0EzdVDzx_MJ",
        "outputId": "22587492-c1bb-4d09-904b-8d13d6fe966b",
        "colab": {
          "base_uri": "https://localhost:8080/",
          "height": 667
        }
      },
      "execution_count": 124,
      "outputs": [
        {
          "output_type": "display_data",
          "data": {
            "text/plain": [
              "<Figure size 640x480 with 10 Axes>"
            ],
            "image/png": "[encoded data removed]"
          },
          "metadata": {}
        },
        {
          "output_type": "display_data",
          "data": {
            "text/plain": [
              "<Figure size 640x480 with 10 Axes>"
            ],
            "image/png": "[encoded data removed]"
          },
          "metadata": {}
        },
        {
          "output_type": "stream",
          "name": "stderr",
          "text": [
            "Computing test loss: 100%|██████████| 157/157 [00:04<00:00, 37.38batch/s]"
          ]
        },
        {
          "output_type": "stream",
          "name": "stdout",
          "text": [
            "Average Reconstruction Loss on Test Data: 93.0015\n"
          ]
        },
        {
          "output_type": "stream",
          "name": "stderr",
          "text": [
            "\n"
          ]
        }
      ]
    },
    {
      "cell_type": "markdown",
      "source": [
        "### Image generation with the VAE model"
      ],
      "metadata": {
        "id": "wFOJ0yCzXuxO"
      }
    },
    {
      "cell_type": "markdown",
      "metadata": {
        "id": "uTfRje_AkKDr"
      },
      "source": [
        "Now, generate some images with the VAE model. You can directly use the `generate_samples` routine from the `VAEModel` class above."
      ]
    },
    {
      "cell_type": "code",
      "source": [
        "def generate_images_vae(vae_model, n_images=5):\n",
        "    # Use the generate_samples method from VAEModel to sample and decode images\n",
        "    generated_data = vae_model.generate_samples(N=n_images)\n",
        "\n",
        "    # The generated images are stored under the key 'generations'\n",
        "    generated_images = generated_data['generations']\n",
        "\n",
        "    return generated_images"
      ],
      "metadata": {
        "id": "NGt_LSDEE2vz"
      },
      "execution_count": 125,
      "outputs": []
    },
    {
      "cell_type": "code",
      "execution_count": 126,
      "metadata": {
        "id": "41tXdNsFkKk5",
        "outputId": "41d5f4b7-b551-4b3c-fb50-7057f3375144",
        "colab": {
          "base_uri": "https://localhost:8080/",
          "height": 122
        }
      },
      "outputs": [
        {
          "output_type": "display_data",
          "data": {
            "text/plain": [
              "<Figure size 640x480 with 5 Axes>"
            ],
            "image/png": "[encoded data removed]"
          },
          "metadata": {}
        }
      ],
      "source": [
        "imgs_generated = generate_images_vae(vae_model)\n",
        "\n",
        "display_images(imgs_generated)"
      ]
    },
    {
      "cell_type": "markdown",
      "metadata": {
        "id": "lGnvKoynzaFN"
      },
      "source": [
        "Do you think the results are better ? What advantage does the Variational Autoencoder have over the simple autoencoder model, even though the second (non-diagonal Gaussian model) AE approach has a more complex probabilistic latent model (a full covariance matrix)?"
      ]
    },
    {
      "cell_type": "markdown",
      "source": [
        "**Answer:**\n",
        "\n",
        "The Variational Autoencoder (VAE) generally offers superior performance and capabilities over a simple Autoencoder (AE), particularly for tasks involving the generation of new data. The VAE models the latent space as a probabilistic distribution, inherently supporting the generation of diverse and realistic images by sampling from this distribution. This is fundamentally integrated into the training process through the minimization of both reconstruction loss and KL divergence, ensuring that the latent space is informative for reconstruction while adhering to a controlled distribution.\n",
        "\n",
        "In contrast, while an AE with a non-diagonal Gaussian model attempts to enhance generation capabilities by estimating complex latent distributions post hoc, it lacks the VAE's integrated approach and theoretical backing. This often results in a latent space that is optimal for reconstruction but less effective for generation. The VAE's structured approach, including mechanisms to balance reconstruction fidelity with latent space regularization (such as the β parameter in Beta-VAEs), provides greater flexibility and control, making it better suited for generating new, high-quality samples."
      ],
      "metadata": {
        "id": "_5mwEKeGR0em"
      }
    },
    {
      "cell_type": "markdown",
      "metadata": {
        "id": "uXm-D9Ef9vYm"
      },
      "source": [
        "Next, we compare the models quantitavely."
      ]
    },
    {
      "cell_type": "markdown",
      "metadata": {
        "id": "04MddkzuE324"
      },
      "source": [
        "# 4. Evaluating and comparing the models for image generation"
      ]
    },
    {
      "cell_type": "code",
      "source": [
        "device = torch.device(\"cuda:0\" if torch.cuda.is_available() else \"cpu\")\n",
        "print(device)"
      ],
      "metadata": {
        "id": "D8WsuVqmaWmd",
        "outputId": "eede2108-2b8d-40e2-840c-c2358581d1ba",
        "colab": {
          "base_uri": "https://localhost:8080/"
        }
      },
      "execution_count": 127,
      "outputs": [
        {
          "output_type": "stream",
          "name": "stdout",
          "text": [
            "cpu\n"
          ]
        }
      ]
    },
    {
      "cell_type": "markdown",
      "source": [
        "Nowadays, the standard metric to evaluate the generative performance of a model is the FID (Fréchet Inception Distance). I leave it for you as optional homework to implement it if you wish to do so.\n",
        "\n",
        "Here, we will follow another path, a simplified version of the Inception Score (IS) that has been somewhat superseded by the FID:\n",
        "\n",
        "- we train a simple convolutional neural network classifier on MNIST, to a good accuracy\n",
        "- we generate images with each model\n",
        "- we find the average of the highest probability of the images according to the classifier, for each model. If this value is high, it means that on average the classifier considers that the images looks like a real image of an actual digit"
      ],
      "metadata": {
        "id": "B93T6PD2YhgF"
      }
    },
    {
      "cell_type": "markdown",
      "source": [
        "We will use the following simple convolutional architecture for the classifier:\n",
        "\n",
        "- conv2d, 3x3 kernel, 32 filters, stride=2, padding=1; + ReLU + BatchNorm2d\n",
        "- conv2d, 3x3 kernel, 64 filters, stride=2, padding=1; + ReLU + BatchNorm2d\n",
        "- conv2d, 3x3 kernel, 128 filters, stride=2, padding=1; + ReLU + BatchNorm2d\n",
        "- Global Average Pooling\n",
        "- Flatten\n",
        "- Dense layer\n",
        "\n",
        "Now, define the model. To make things easier, we use the `torch.nn.Sequential` API to implement the model (there is no need for a Class in this simple case).\n",
        "\n",
        "__Hint__. For the global average pooling, use the `torch.nn.AvgPool2d` layer with the suitable kernel size and stride."
      ],
      "metadata": {
        "id": "Fk1OdN6jZZf1"
      }
    },
    {
      "cell_type": "code",
      "execution_count": 128,
      "metadata": {
        "id": "P87a-DkXFOCv"
      },
      "outputs": [],
      "source": [
        "nb_classes = 10\n",
        "kernel_size = (3, 3)\n",
        "stride = 2\n",
        "padding = 1\n",
        "\n",
        "mnist_classification_model = torch.nn.Sequential(\n",
        "    # First convolutional layer\n",
        "    nn.Conv2d(in_channels=1, out_channels=32, kernel_size=kernel_size, stride=stride, padding=padding),\n",
        "    nn.ReLU(),\n",
        "    nn.BatchNorm2d(32),\n",
        "\n",
        "    # Second convolutional layer\n",
        "    nn.Conv2d(in_channels=32, out_channels=64, kernel_size=kernel_size, stride=stride, padding=padding),\n",
        "    nn.ReLU(),\n",
        "    nn.BatchNorm2d(64),\n",
        "\n",
        "    # Third convolutional layer\n",
        "    nn.Conv2d(in_channels=64, out_channels=128, kernel_size=kernel_size, stride=stride, padding=padding),\n",
        "    nn.ReLU(),\n",
        "    nn.BatchNorm2d(128),\n",
        "\n",
        "    # Global Average Pooling\n",
        "    nn.AdaptiveAvgPool2d(1),\n",
        "\n",
        "    # Flatten the output for the dense layer\n",
        "    nn.Flatten(),\n",
        "\n",
        "    # Dense layer to classify the images into 10 classes (for the 10 digits)\n",
        "    nn.Linear(128, nb_classes)\n",
        ")\n",
        "\n",
        "# Move the model to the appropriate device (GPU or CPU)\n",
        "mnist_classification_model = mnist_classification_model.to(device)\n"
      ]
    },
    {
      "cell_type": "code",
      "source": [
        "learning_rate = 1e-2\n",
        "n_epoch = 5"
      ],
      "metadata": {
        "id": "rJ6ZYkKVaY64"
      },
      "execution_count": 129,
      "outputs": []
    },
    {
      "cell_type": "code",
      "source": [
        "# Cross entropy with reduction='sum'\n",
        "criterion = nn.CrossEntropyLoss(reduction='sum')"
      ],
      "metadata": {
        "id": "Zexnteq71bJ5"
      },
      "execution_count": 130,
      "outputs": []
    },
    {
      "cell_type": "code",
      "source": [
        "# AdamW, weight decay set to 1e-4\n",
        "optimizer = optim.AdamW(mnist_classification_model.parameters(), lr=learning_rate, weight_decay=1e-4)"
      ],
      "metadata": {
        "id": "pWkFh6zHajBg"
      },
      "execution_count": 131,
      "outputs": []
    },
    {
      "cell_type": "code",
      "source": [
        "def vector_to_class(x):\n",
        "  y = torch.argmax(F.softmax(x,dim=1),axis=1)\n",
        "  return y"
      ],
      "metadata": {
        "id": "eBZrmVV42Gej"
      },
      "execution_count": 132,
      "outputs": []
    },
    {
      "cell_type": "code",
      "execution_count": 133,
      "metadata": {
        "id": "aOww0ydr2fT0"
      },
      "outputs": [],
      "source": [
        "def cnn_accuracy(x_pred,x_label):\n",
        "  acc = (x_pred == x_label).sum()/(x_pred.shape[0])\n",
        "  return acc"
      ]
    },
    {
      "cell_type": "code",
      "execution_count": 134,
      "metadata": {
        "id": "0FA8YoX2FcHP",
        "outputId": "5b0097c8-ea42-4a21-9fd4-f0a0ec99b4ef",
        "colab": {
          "base_uri": "https://localhost:8080/"
        }
      },
      "outputs": [
        {
          "output_type": "stream",
          "name": "stderr",
          "text": [
            "Epoch 0: 100%|██████████| 938/938 [00:53<00:00, 17.61batch/s, loss=1.92]\n"
          ]
        },
        {
          "output_type": "stream",
          "name": "stdout",
          "text": [
            "Epoch:0 Train Loss:0.1661 Accuracy:0.9488\n"
          ]
        },
        {
          "output_type": "stream",
          "name": "stderr",
          "text": [
            "Epoch 1: 100%|██████████| 938/938 [00:55<00:00, 16.81batch/s, loss=0.261]\n"
          ]
        },
        {
          "output_type": "stream",
          "name": "stdout",
          "text": [
            "Epoch:1 Train Loss:0.0615 Accuracy:0.9805\n"
          ]
        },
        {
          "output_type": "stream",
          "name": "stderr",
          "text": [
            "Epoch 2: 100%|██████████| 938/938 [00:52<00:00, 17.80batch/s, loss=2.2]\n"
          ]
        },
        {
          "output_type": "stream",
          "name": "stdout",
          "text": [
            "Epoch:2 Train Loss:0.0475 Accuracy:0.9852\n"
          ]
        },
        {
          "output_type": "stream",
          "name": "stderr",
          "text": [
            "Epoch 3: 100%|██████████| 938/938 [00:55<00:00, 16.84batch/s, loss=0.0427]\n"
          ]
        },
        {
          "output_type": "stream",
          "name": "stdout",
          "text": [
            "Epoch:3 Train Loss:0.0383 Accuracy:0.9872\n"
          ]
        },
        {
          "output_type": "stream",
          "name": "stderr",
          "text": [
            "Epoch 4: 100%|██████████| 938/938 [00:52<00:00, 17.89batch/s, loss=0.0851]\n"
          ]
        },
        {
          "output_type": "stream",
          "name": "stdout",
          "text": [
            "Epoch:4 Train Loss:0.0312 Accuracy:0.9897\n"
          ]
        }
      ],
      "source": [
        "mnist_classification_model.train()\n",
        "\n",
        "for epoch in range(0, n_epoch):\n",
        "    train_loss = 0.0\n",
        "    all_labels = []\n",
        "    all_predicted = []\n",
        "\n",
        "    with tqdm(mnist_train_loader, unit=\"batch\") as tepoch:\n",
        "        for imgs, labels in tepoch:\n",
        "            tepoch.set_description(f\"Epoch {epoch}\")\n",
        "\n",
        "            # Put data on the correct device\n",
        "            imgs = imgs.to(device)\n",
        "            labels = labels.to(device)\n",
        "\n",
        "            # Zero the gradients before running the forward pass\n",
        "            optimizer.zero_grad()\n",
        "\n",
        "            # Forward pass to get the output logits\n",
        "            predict = mnist_classification_model(imgs)\n",
        "\n",
        "            # Compute the loss\n",
        "            loss = criterion(predict, labels)\n",
        "\n",
        "            # Backpropagation to compute gradients\n",
        "            loss.backward()\n",
        "\n",
        "            # Update the model weights\n",
        "            optimizer.step()\n",
        "\n",
        "            # Compute the train loss (sum of losses over the batch)\n",
        "            train_loss += loss.item()\n",
        "\n",
        "            # Store labels and class predictions for accuracy computation\n",
        "            all_labels.extend(labels.cpu().tolist())\n",
        "            all_predicted.extend(vector_to_class(predict).cpu().tolist())\n",
        "\n",
        "            # tqdm bar displays the loss\n",
        "            tepoch.set_postfix(loss=loss.item())\n",
        "\n",
        "    # Calculate overall accuracy\n",
        "    accuracy = cnn_accuracy(torch.tensor(all_predicted), torch.tensor(all_labels))\n",
        "    print(f'Epoch:{epoch} Train Loss:{train_loss / len(mnist_train_loader.dataset):.4f} Accuracy:{accuracy:.4f}')\n"
      ]
    },
    {
      "cell_type": "code",
      "source": [
        "mnist_classification_model.eval()\n",
        "\n",
        "all_predicted = []\n",
        "all_labels = []\n",
        "\n",
        "with tqdm(mnist_test_loader, unit=\"batch\") as tepoch:\n",
        "  for imgs, labels in tepoch:\n",
        "    all_labels.extend(labels.tolist())\n",
        "\n",
        "    imgs = imgs.to(device)\n",
        "    predict=mnist_classification_model(imgs)\n",
        "    all_predicted.extend(vector_to_class(predict).tolist())\n",
        "\n",
        "test_accuracy = cnn_accuracy(np.array(all_predicted),np.array(all_labels))\n",
        "\n",
        "print(\"\\nTest Accuracy:\", test_accuracy)"
      ],
      "metadata": {
        "id": "5bRM-1_x4bu2",
        "outputId": "64619889-468b-461b-b182-b0abacfd1fb0",
        "colab": {
          "base_uri": "https://localhost:8080/"
        }
      },
      "execution_count": 135,
      "outputs": [
        {
          "output_type": "stream",
          "name": "stderr",
          "text": [
            "100%|██████████| 157/157 [00:03<00:00, 50.87batch/s]\n"
          ]
        },
        {
          "output_type": "stream",
          "name": "stdout",
          "text": [
            "\n",
            "Test Accuracy: 0.9836\n"
          ]
        }
      ]
    },
    {
      "cell_type": "markdown",
      "metadata": {
        "id": "zFgN5LblFwTa"
      },
      "source": [
        "### Evaluate the average maximum prediction of the images generated by each generative model (higher is better)\n",
        "\n",
        "Now, we evaluate the models. For each ones, produce a certain number of images, and put those images through the classification network. Then find the maximum class probability of each image, and average it over all the images. We will use this as a metric to evaluate each model.\n",
        "\n",
        "__CAREFUL__: the output of the network does __not__ include the Softmax layer, so you will have to carry it out, with:\n",
        "- ```torch.nn.Softmax()(...)```\n",
        "\n",
        "Define this metric now:"
      ]
    },
    {
      "cell_type": "code",
      "execution_count": 136,
      "metadata": {
        "id": "lCJ_0qqjOXHT"
      },
      "outputs": [],
      "source": [
        "def generative_model_score(imgs_in, classification_model):\n",
        "    # Move images to the appropriate device\n",
        "    imgs_in = imgs_in.to(device)\n",
        "\n",
        "    # Get the predictions from the classification model\n",
        "    predictions = classification_model(imgs_in)\n",
        "\n",
        "    # Apply softmax to convert logits to probabilities\n",
        "    probabilities = F.softmax(predictions, dim=1)\n",
        "\n",
        "    # Get the maximum probability for each image\n",
        "    max_probs = probabilities.max(dim=1)[0]\n",
        "\n",
        "    # Calculate the average of these maximum probabilities\n",
        "    gen_score = max_probs.mean().item()\n",
        "    return gen_score"
      ]
    },
    {
      "cell_type": "markdown",
      "metadata": {
        "id": "yGq7YFg51UoP"
      },
      "source": [
        "Now, generate some images with each of the three models, and evaluate these models:"
      ]
    },
    {
      "cell_type": "code",
      "execution_count": 137,
      "metadata": {
        "id": "4-L4u2jhILFx",
        "outputId": "f804c5b6-aa8f-4d64-8818-36673149bf6a",
        "colab": {
          "base_uri": "https://localhost:8080/"
        }
      },
      "outputs": [
        {
          "output_type": "stream",
          "name": "stdout",
          "text": [
            "Diagonal gaussian generative model score :  0.8688862323760986\n",
            "Non diagonal gaussian generative model score :  0.8999066948890686\n",
            "Variational autoencoder model score:  0.8990873098373413\n"
          ]
        }
      ],
      "source": [
        "imgs_diagonal_gaussian = generate_images_diagonal_gaussian(ae_model,z_average,z_sigma,n_images = 2000)\n",
        "imgs_non_diagonal_gaussian = generate_images_non_diagonal_gaussian(ae_model,z_average,L,n_images = 2000)\n",
        "imgs_vae = generate_images_vae(vae_model,n_images=2000)\n",
        "\n",
        "# average of maximum of first model\n",
        "diagonal_gaussian_score = float(generative_model_score(imgs_diagonal_gaussian,mnist_classification_model))\n",
        "non_diagonal_gaussian_score = float(generative_model_score(imgs_non_diagonal_gaussian,mnist_classification_model))\n",
        "vae_gaussian_score = float(generative_model_score(imgs_vae,mnist_classification_model))\n",
        "\n",
        "print(\"Diagonal gaussian generative model score : \",diagonal_gaussian_score)\n",
        "print(\"Non diagonal gaussian generative model score : \",non_diagonal_gaussian_score)\n",
        "print(\"Variational autoencoder model score: \",vae_gaussian_score)"
      ]
    },
    {
      "cell_type": "markdown",
      "metadata": {
        "id": "sxvsG8FC1gNS"
      },
      "source": [
        "Questions:\n",
        "\n",
        "- Which model is better quantitatively ? (unfortunately there is some variability, even with 2000 samples; you might want to rerun the cell several times to get the trend)\n",
        "- Do the quantitative result support the qualitative results ?\n",
        "- Can you see any drawbacks of this method of evaluation ?\n",
        "- Can you propose any more sophisticated models than the multivariate Gaussian approach (apart from the variational autoencoder) ?"
      ]
    },
    {
      "cell_type": "markdown",
      "source": [
        "**Answer:**\n",
        "\n",
        "1. **Which model is better quantitatively?**\n",
        "   - Quantitatively, the model with the non-diagonal Gaussian generative model has a slightly higher score (0.8999) compared to the Variational Autoencoder (0.8991) and the diagonal Gaussian model (0.8689). This suggests that, for this particular run, the non-diagonal Gaussian model performed the best. However, the difference between the non-diagonal Gaussian model and the VAE is quite small, indicating similar performance. Multiple runs are necessary to discern a clear trend due to inherent variability.\n",
        "\n",
        "2. **Do the quantitative results support the qualitative results?**\n",
        "   - If the qualitative results (visual inspection of generated images) show that images from the non-diagonal Gaussian model and the VAE look more realistic and diverse compared to those from the diagonal Gaussian model, then the quantitative results do support the qualitative ones. Otherwise, if the visual quality does not match these scores, it may suggest limitations in how the evaluation metric aligns with human perception.\n",
        "\n",
        "3. **Drawbacks of this method of evaluation:**\n",
        "   - The primary drawback of using classifier-based metrics like these scores is their heavy reliance on the classifier's performance and biases. If the classifier is not well-generalized, it may not accurately reflect the true quality of the images. Additionally, this method evaluates realism but not diversity or novelty, which are also important aspects of generative models.\n",
        "\n",
        "4. **More sophisticated models:**\n",
        "   - Beyond the multivariate Gaussian and VAE approaches, other sophisticated models include:\n",
        "     - **Generative Adversarial Networks (GANs)**: Known for producing high-quality images by training two networks in opposition to each other.\n",
        "     - **Normalizing Flows**: Provides exact log-likelihood computation and reversible transformations, suitable for detailed and diverse sample generation.\n",
        "     - **Autoregressive Models** like PixelCNN, which generate images pixel by pixel, ensuring high levels of detail and coherence.\n",
        "     - **Energy-Based Models (EBMs)**: Learn an energy landscape where lower energies are more probable, allowing generation of diverse samples by navigating this landscape.\n",
        "\n",
        "Each of these models offers distinct advantages in handling complex distributions, providing diversity, and achieving realistic image generation, potentially surpassing simpler Gaussian-based methods in various aspects."
      ],
      "metadata": {
        "id": "NMeLsVIwVMKU"
      }
    }
  ],
  "metadata": {
    "colab": {
      "provenance": []
    },
    "kernelspec": {
      "display_name": "Python 3",
      "name": "python3"
    },
    "language_info": {
      "codemirror_mode": {
        "name": "ipython",
        "version": 3
      },
      "file_extension": ".py",
      "mimetype": "text/x-python",
      "name": "python",
      "nbconvert_exporter": "python",
      "pygments_lexer": "ipython3",
      "version": "3.9.12"
    }
  },
  "nbformat": 4,
  "nbformat_minor": 0
}